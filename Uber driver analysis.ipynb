{
 "cells": [
  {
   "cell_type": "code",
   "execution_count": 35,
   "id": "5f0a836b",
   "metadata": {},
   "outputs": [],
   "source": [
    "import pandas as pd\n",
    "import numpy as np\n",
    "import seaborn as sns\n",
    "import matplotlib.pyplot as plt\n"
   ]
  },
  {
   "cell_type": "code",
   "execution_count": 2,
   "id": "d2dc2cb6",
   "metadata": {},
   "outputs": [],
   "source": [
    "data= pd.read_csv('C:/Users/Admin/Desktop/Uber Analysis/Uber Request Data.csv')"
   ]
  },
  {
   "cell_type": "code",
   "execution_count": 3,
   "id": "9777b449",
   "metadata": {},
   "outputs": [
    {
     "data": {
      "text/html": [
       "<div>\n",
       "<style scoped>\n",
       "    .dataframe tbody tr th:only-of-type {\n",
       "        vertical-align: middle;\n",
       "    }\n",
       "\n",
       "    .dataframe tbody tr th {\n",
       "        vertical-align: top;\n",
       "    }\n",
       "\n",
       "    .dataframe thead th {\n",
       "        text-align: right;\n",
       "    }\n",
       "</style>\n",
       "<table border=\"1\" class=\"dataframe\">\n",
       "  <thead>\n",
       "    <tr style=\"text-align: right;\">\n",
       "      <th></th>\n",
       "      <th>Request id</th>\n",
       "      <th>Pickup point</th>\n",
       "      <th>Driver id</th>\n",
       "      <th>Status</th>\n",
       "      <th>Request timestamp</th>\n",
       "      <th>Drop timestamp</th>\n",
       "    </tr>\n",
       "  </thead>\n",
       "  <tbody>\n",
       "    <tr>\n",
       "      <th>0</th>\n",
       "      <td>619</td>\n",
       "      <td>Airport</td>\n",
       "      <td>1.0</td>\n",
       "      <td>Trip Completed</td>\n",
       "      <td>11-07-2016 11:51</td>\n",
       "      <td>11-07-2016 13:00</td>\n",
       "    </tr>\n",
       "    <tr>\n",
       "      <th>1</th>\n",
       "      <td>867</td>\n",
       "      <td>Airport</td>\n",
       "      <td>1.0</td>\n",
       "      <td>Trip Completed</td>\n",
       "      <td>11-07-2016 17:57</td>\n",
       "      <td>11-07-2016 18:47</td>\n",
       "    </tr>\n",
       "    <tr>\n",
       "      <th>2</th>\n",
       "      <td>1807</td>\n",
       "      <td>City</td>\n",
       "      <td>1.0</td>\n",
       "      <td>Trip Completed</td>\n",
       "      <td>12-07-2016 09:17</td>\n",
       "      <td>12-07-2016 09:58</td>\n",
       "    </tr>\n",
       "    <tr>\n",
       "      <th>3</th>\n",
       "      <td>2532</td>\n",
       "      <td>Airport</td>\n",
       "      <td>1.0</td>\n",
       "      <td>Trip Completed</td>\n",
       "      <td>12-07-2016 21:08</td>\n",
       "      <td>12-07-2016 22:03</td>\n",
       "    </tr>\n",
       "    <tr>\n",
       "      <th>4</th>\n",
       "      <td>3112</td>\n",
       "      <td>City</td>\n",
       "      <td>1.0</td>\n",
       "      <td>Trip Completed</td>\n",
       "      <td>13-07-2016 08:33</td>\n",
       "      <td>13-07-2016 09:25</td>\n",
       "    </tr>\n",
       "    <tr>\n",
       "      <th>5</th>\n",
       "      <td>3879</td>\n",
       "      <td>Airport</td>\n",
       "      <td>1.0</td>\n",
       "      <td>Trip Completed</td>\n",
       "      <td>13-07-2016 21:57</td>\n",
       "      <td>13-07-2016 22:28</td>\n",
       "    </tr>\n",
       "    <tr>\n",
       "      <th>6</th>\n",
       "      <td>4270</td>\n",
       "      <td>Airport</td>\n",
       "      <td>1.0</td>\n",
       "      <td>Trip Completed</td>\n",
       "      <td>14-07-2016 06:15</td>\n",
       "      <td>14-07-2016 07:13</td>\n",
       "    </tr>\n",
       "    <tr>\n",
       "      <th>7</th>\n",
       "      <td>5510</td>\n",
       "      <td>Airport</td>\n",
       "      <td>1.0</td>\n",
       "      <td>Trip Completed</td>\n",
       "      <td>15-07-2016 05:11</td>\n",
       "      <td>15-07-2016 06:07</td>\n",
       "    </tr>\n",
       "    <tr>\n",
       "      <th>8</th>\n",
       "      <td>6248</td>\n",
       "      <td>City</td>\n",
       "      <td>1.0</td>\n",
       "      <td>Trip Completed</td>\n",
       "      <td>15-07-2016 17:57</td>\n",
       "      <td>15-07-2016 18:50</td>\n",
       "    </tr>\n",
       "    <tr>\n",
       "      <th>9</th>\n",
       "      <td>267</td>\n",
       "      <td>City</td>\n",
       "      <td>2.0</td>\n",
       "      <td>Trip Completed</td>\n",
       "      <td>11-07-2016 06:46</td>\n",
       "      <td>11-07-2016 07:25</td>\n",
       "    </tr>\n",
       "  </tbody>\n",
       "</table>\n",
       "</div>"
      ],
      "text/plain": [
       "   Request id Pickup point  Driver id          Status Request timestamp  \\\n",
       "0         619      Airport        1.0  Trip Completed  11-07-2016 11:51   \n",
       "1         867      Airport        1.0  Trip Completed  11-07-2016 17:57   \n",
       "2        1807         City        1.0  Trip Completed  12-07-2016 09:17   \n",
       "3        2532      Airport        1.0  Trip Completed  12-07-2016 21:08   \n",
       "4        3112         City        1.0  Trip Completed  13-07-2016 08:33   \n",
       "5        3879      Airport        1.0  Trip Completed  13-07-2016 21:57   \n",
       "6        4270      Airport        1.0  Trip Completed  14-07-2016 06:15   \n",
       "7        5510      Airport        1.0  Trip Completed  15-07-2016 05:11   \n",
       "8        6248         City        1.0  Trip Completed  15-07-2016 17:57   \n",
       "9         267         City        2.0  Trip Completed  11-07-2016 06:46   \n",
       "\n",
       "     Drop timestamp  \n",
       "0  11-07-2016 13:00  \n",
       "1  11-07-2016 18:47  \n",
       "2  12-07-2016 09:58  \n",
       "3  12-07-2016 22:03  \n",
       "4  13-07-2016 09:25  \n",
       "5  13-07-2016 22:28  \n",
       "6  14-07-2016 07:13  \n",
       "7  15-07-2016 06:07  \n",
       "8  15-07-2016 18:50  \n",
       "9  11-07-2016 07:25  "
      ]
     },
     "execution_count": 3,
     "metadata": {},
     "output_type": "execute_result"
    }
   ],
   "source": [
    "data.head(10)"
   ]
  },
  {
   "cell_type": "code",
   "execution_count": 12,
   "id": "00872497",
   "metadata": {},
   "outputs": [
    {
     "name": "stdout",
     "output_type": "stream",
     "text": [
      "<class 'pandas.core.frame.DataFrame'>\n",
      "RangeIndex: 6745 entries, 0 to 6744\n",
      "Data columns (total 6 columns):\n",
      " #   Column             Non-Null Count  Dtype  \n",
      "---  ------             --------------  -----  \n",
      " 0   Request id         6745 non-null   int64  \n",
      " 1   Pickup point       6745 non-null   object \n",
      " 2   Driver id          4095 non-null   float64\n",
      " 3   Status             6745 non-null   object \n",
      " 4   Request timestamp  6745 non-null   object \n",
      " 5   Drop timestamp     2831 non-null   object \n",
      "dtypes: float64(1), int64(1), object(4)\n",
      "memory usage: 316.3+ KB\n"
     ]
    }
   ],
   "source": [
    "data.info()"
   ]
  },
  {
   "cell_type": "code",
   "execution_count": 5,
   "id": "c6d0f8ab",
   "metadata": {},
   "outputs": [],
   "source": [
    "data['Request timestamp'] = pd.to_datetime(data['Request timestamp'])\n",
    "data['Drop timestamp'] = pd.to_datetime(data['Drop timestamp'])"
   ]
  },
  {
   "cell_type": "code",
   "execution_count": 6,
   "id": "7540a66c",
   "metadata": {},
   "outputs": [
    {
     "data": {
      "text/html": [
       "<div>\n",
       "<style scoped>\n",
       "    .dataframe tbody tr th:only-of-type {\n",
       "        vertical-align: middle;\n",
       "    }\n",
       "\n",
       "    .dataframe tbody tr th {\n",
       "        vertical-align: top;\n",
       "    }\n",
       "\n",
       "    .dataframe thead th {\n",
       "        text-align: right;\n",
       "    }\n",
       "</style>\n",
       "<table border=\"1\" class=\"dataframe\">\n",
       "  <thead>\n",
       "    <tr style=\"text-align: right;\">\n",
       "      <th></th>\n",
       "      <th>Request id</th>\n",
       "      <th>Pickup point</th>\n",
       "      <th>Driver id</th>\n",
       "      <th>Status</th>\n",
       "      <th>Request timestamp</th>\n",
       "      <th>Drop timestamp</th>\n",
       "    </tr>\n",
       "  </thead>\n",
       "  <tbody>\n",
       "    <tr>\n",
       "      <th>0</th>\n",
       "      <td>619</td>\n",
       "      <td>Airport</td>\n",
       "      <td>1.0</td>\n",
       "      <td>Trip Completed</td>\n",
       "      <td>2016-11-07 11:51:00</td>\n",
       "      <td>2016-11-07 13:00:00</td>\n",
       "    </tr>\n",
       "    <tr>\n",
       "      <th>1</th>\n",
       "      <td>867</td>\n",
       "      <td>Airport</td>\n",
       "      <td>1.0</td>\n",
       "      <td>Trip Completed</td>\n",
       "      <td>2016-11-07 17:57:00</td>\n",
       "      <td>2016-11-07 18:47:00</td>\n",
       "    </tr>\n",
       "    <tr>\n",
       "      <th>2</th>\n",
       "      <td>1807</td>\n",
       "      <td>City</td>\n",
       "      <td>1.0</td>\n",
       "      <td>Trip Completed</td>\n",
       "      <td>2016-12-07 09:17:00</td>\n",
       "      <td>2016-12-07 09:58:00</td>\n",
       "    </tr>\n",
       "    <tr>\n",
       "      <th>3</th>\n",
       "      <td>2532</td>\n",
       "      <td>Airport</td>\n",
       "      <td>1.0</td>\n",
       "      <td>Trip Completed</td>\n",
       "      <td>2016-12-07 21:08:00</td>\n",
       "      <td>2016-12-07 22:03:00</td>\n",
       "    </tr>\n",
       "    <tr>\n",
       "      <th>4</th>\n",
       "      <td>3112</td>\n",
       "      <td>City</td>\n",
       "      <td>1.0</td>\n",
       "      <td>Trip Completed</td>\n",
       "      <td>2016-07-13 08:33:00</td>\n",
       "      <td>2016-07-13 09:25:00</td>\n",
       "    </tr>\n",
       "  </tbody>\n",
       "</table>\n",
       "</div>"
      ],
      "text/plain": [
       "   Request id Pickup point  Driver id          Status   Request timestamp  \\\n",
       "0         619      Airport        1.0  Trip Completed 2016-11-07 11:51:00   \n",
       "1         867      Airport        1.0  Trip Completed 2016-11-07 17:57:00   \n",
       "2        1807         City        1.0  Trip Completed 2016-12-07 09:17:00   \n",
       "3        2532      Airport        1.0  Trip Completed 2016-12-07 21:08:00   \n",
       "4        3112         City        1.0  Trip Completed 2016-07-13 08:33:00   \n",
       "\n",
       "       Drop timestamp  \n",
       "0 2016-11-07 13:00:00  \n",
       "1 2016-11-07 18:47:00  \n",
       "2 2016-12-07 09:58:00  \n",
       "3 2016-12-07 22:03:00  \n",
       "4 2016-07-13 09:25:00  "
      ]
     },
     "execution_count": 6,
     "metadata": {},
     "output_type": "execute_result"
    }
   ],
   "source": [
    "data.head()"
   ]
  },
  {
   "cell_type": "code",
   "execution_count": 7,
   "id": "baa41eb0",
   "metadata": {},
   "outputs": [
    {
     "name": "stdout",
     "output_type": "stream",
     "text": [
      "There are 6745 unique request ids\n"
     ]
    }
   ],
   "source": [
    "print('There are '+str(len(data['Request id'].unique()))+' unique request ids')\n"
   ]
  },
  {
   "cell_type": "code",
   "execution_count": 9,
   "id": "2d9e4747",
   "metadata": {},
   "outputs": [],
   "source": [
    "#request id is of no use for the analysis, lets remove this column\n",
    "data.drop('Request id',axis=1,inplace=True)"
   ]
  },
  {
   "cell_type": "code",
   "execution_count": 10,
   "id": "e090e222",
   "metadata": {},
   "outputs": [
    {
     "name": "stdout",
     "output_type": "stream",
     "text": [
      "<class 'pandas.core.frame.DataFrame'>\n",
      "RangeIndex: 6745 entries, 0 to 6744\n",
      "Data columns (total 5 columns):\n",
      " #   Column             Non-Null Count  Dtype         \n",
      "---  ------             --------------  -----         \n",
      " 0   Pickup point       6745 non-null   object        \n",
      " 1   Driver id          4095 non-null   float64       \n",
      " 2   Status             6745 non-null   object        \n",
      " 3   Request timestamp  6745 non-null   datetime64[ns]\n",
      " 4   Drop timestamp     2831 non-null   datetime64[ns]\n",
      "dtypes: datetime64[ns](2), float64(1), object(2)\n",
      "memory usage: 263.6+ KB\n"
     ]
    }
   ],
   "source": [
    "data.info()"
   ]
  },
  {
   "cell_type": "code",
   "execution_count": 12,
   "id": "37f0e465",
   "metadata": {},
   "outputs": [
    {
     "data": {
      "text/html": [
       "<div>\n",
       "<style scoped>\n",
       "    .dataframe tbody tr th:only-of-type {\n",
       "        vertical-align: middle;\n",
       "    }\n",
       "\n",
       "    .dataframe tbody tr th {\n",
       "        vertical-align: top;\n",
       "    }\n",
       "\n",
       "    .dataframe thead th {\n",
       "        text-align: right;\n",
       "    }\n",
       "</style>\n",
       "<table border=\"1\" class=\"dataframe\">\n",
       "  <thead>\n",
       "    <tr style=\"text-align: right;\">\n",
       "      <th></th>\n",
       "      <th>Pickup point</th>\n",
       "      <th>Driver id</th>\n",
       "      <th>Status</th>\n",
       "      <th>Request timestamp</th>\n",
       "      <th>Drop timestamp</th>\n",
       "    </tr>\n",
       "  </thead>\n",
       "  <tbody>\n",
       "    <tr>\n",
       "      <th>0</th>\n",
       "      <td>Airport</td>\n",
       "      <td>1.0</td>\n",
       "      <td>Trip Completed</td>\n",
       "      <td>2016-11-07 11:51:00</td>\n",
       "      <td>2016-11-07 13:00:00</td>\n",
       "    </tr>\n",
       "    <tr>\n",
       "      <th>1</th>\n",
       "      <td>Airport</td>\n",
       "      <td>1.0</td>\n",
       "      <td>Trip Completed</td>\n",
       "      <td>2016-11-07 17:57:00</td>\n",
       "      <td>2016-11-07 18:47:00</td>\n",
       "    </tr>\n",
       "    <tr>\n",
       "      <th>2</th>\n",
       "      <td>City</td>\n",
       "      <td>1.0</td>\n",
       "      <td>Trip Completed</td>\n",
       "      <td>2016-12-07 09:17:00</td>\n",
       "      <td>2016-12-07 09:58:00</td>\n",
       "    </tr>\n",
       "    <tr>\n",
       "      <th>3</th>\n",
       "      <td>Airport</td>\n",
       "      <td>1.0</td>\n",
       "      <td>Trip Completed</td>\n",
       "      <td>2016-12-07 21:08:00</td>\n",
       "      <td>2016-12-07 22:03:00</td>\n",
       "    </tr>\n",
       "    <tr>\n",
       "      <th>4</th>\n",
       "      <td>City</td>\n",
       "      <td>1.0</td>\n",
       "      <td>Trip Completed</td>\n",
       "      <td>2016-07-13 08:33:00</td>\n",
       "      <td>2016-07-13 09:25:00</td>\n",
       "    </tr>\n",
       "  </tbody>\n",
       "</table>\n",
       "</div>"
      ],
      "text/plain": [
       "  Pickup point  Driver id          Status   Request timestamp  \\\n",
       "0      Airport        1.0  Trip Completed 2016-11-07 11:51:00   \n",
       "1      Airport        1.0  Trip Completed 2016-11-07 17:57:00   \n",
       "2         City        1.0  Trip Completed 2016-12-07 09:17:00   \n",
       "3      Airport        1.0  Trip Completed 2016-12-07 21:08:00   \n",
       "4         City        1.0  Trip Completed 2016-07-13 08:33:00   \n",
       "\n",
       "       Drop timestamp  \n",
       "0 2016-11-07 13:00:00  \n",
       "1 2016-11-07 18:47:00  \n",
       "2 2016-12-07 09:58:00  \n",
       "3 2016-12-07 22:03:00  \n",
       "4 2016-07-13 09:25:00  "
      ]
     },
     "execution_count": 12,
     "metadata": {},
     "output_type": "execute_result"
    }
   ],
   "source": [
    "data.head()"
   ]
  },
  {
   "cell_type": "code",
   "execution_count": 16,
   "id": "cb2ff7d9",
   "metadata": {},
   "outputs": [],
   "source": [
    "#Assumptions:-\n",
    "#Assumption is driver id is null for all the rides which are 'No Cars Available' status\n",
    "#Drop time is null for all the records with 'Cancelled' status"
   ]
  },
  {
   "cell_type": "code",
   "execution_count": 17,
   "id": "c0cb4c83",
   "metadata": {},
   "outputs": [
    {
     "data": {
      "text/html": [
       "<div>\n",
       "<style scoped>\n",
       "    .dataframe tbody tr th:only-of-type {\n",
       "        vertical-align: middle;\n",
       "    }\n",
       "\n",
       "    .dataframe tbody tr th {\n",
       "        vertical-align: top;\n",
       "    }\n",
       "\n",
       "    .dataframe thead th {\n",
       "        text-align: right;\n",
       "    }\n",
       "</style>\n",
       "<table border=\"1\" class=\"dataframe\">\n",
       "  <thead>\n",
       "    <tr style=\"text-align: right;\">\n",
       "      <th></th>\n",
       "      <th>Pickup point</th>\n",
       "      <th>Driver id</th>\n",
       "      <th>Request timestamp</th>\n",
       "      <th>Drop timestamp</th>\n",
       "    </tr>\n",
       "    <tr>\n",
       "      <th>Status</th>\n",
       "      <th></th>\n",
       "      <th></th>\n",
       "      <th></th>\n",
       "      <th></th>\n",
       "    </tr>\n",
       "  </thead>\n",
       "  <tbody>\n",
       "    <tr>\n",
       "      <th>Cancelled</th>\n",
       "      <td>1264</td>\n",
       "      <td>1264</td>\n",
       "      <td>1264</td>\n",
       "      <td>0</td>\n",
       "    </tr>\n",
       "    <tr>\n",
       "      <th>No Cars Available</th>\n",
       "      <td>2650</td>\n",
       "      <td>0</td>\n",
       "      <td>2650</td>\n",
       "      <td>0</td>\n",
       "    </tr>\n",
       "    <tr>\n",
       "      <th>Trip Completed</th>\n",
       "      <td>2831</td>\n",
       "      <td>2831</td>\n",
       "      <td>2831</td>\n",
       "      <td>2831</td>\n",
       "    </tr>\n",
       "  </tbody>\n",
       "</table>\n",
       "</div>"
      ],
      "text/plain": [
       "                   Pickup point  Driver id  Request timestamp  Drop timestamp\n",
       "Status                                                                       \n",
       "Cancelled                  1264       1264               1264               0\n",
       "No Cars Available          2650          0               2650               0\n",
       "Trip Completed             2831       2831               2831            2831"
      ]
     },
     "execution_count": 17,
     "metadata": {},
     "output_type": "execute_result"
    }
   ],
   "source": [
    "data.groupby(['Status']).count()\n"
   ]
  },
  {
   "cell_type": "code",
   "execution_count": 19,
   "id": "b46dfd62",
   "metadata": {},
   "outputs": [],
   "source": [
    "# so here is not a missing values present in our dataset"
   ]
  },
  {
   "cell_type": "code",
   "execution_count": 20,
   "id": "00ef384d",
   "metadata": {},
   "outputs": [
    {
     "data": {
      "text/html": [
       "<div>\n",
       "<style scoped>\n",
       "    .dataframe tbody tr th:only-of-type {\n",
       "        vertical-align: middle;\n",
       "    }\n",
       "\n",
       "    .dataframe tbody tr th {\n",
       "        vertical-align: top;\n",
       "    }\n",
       "\n",
       "    .dataframe thead th {\n",
       "        text-align: right;\n",
       "    }\n",
       "</style>\n",
       "<table border=\"1\" class=\"dataframe\">\n",
       "  <thead>\n",
       "    <tr style=\"text-align: right;\">\n",
       "      <th></th>\n",
       "      <th>Driver id</th>\n",
       "    </tr>\n",
       "  </thead>\n",
       "  <tbody>\n",
       "    <tr>\n",
       "      <th>count</th>\n",
       "      <td>4095.000000</td>\n",
       "    </tr>\n",
       "    <tr>\n",
       "      <th>mean</th>\n",
       "      <td>149.501343</td>\n",
       "    </tr>\n",
       "    <tr>\n",
       "      <th>std</th>\n",
       "      <td>86.051994</td>\n",
       "    </tr>\n",
       "    <tr>\n",
       "      <th>min</th>\n",
       "      <td>1.000000</td>\n",
       "    </tr>\n",
       "    <tr>\n",
       "      <th>25%</th>\n",
       "      <td>75.000000</td>\n",
       "    </tr>\n",
       "    <tr>\n",
       "      <th>50%</th>\n",
       "      <td>149.000000</td>\n",
       "    </tr>\n",
       "    <tr>\n",
       "      <th>75%</th>\n",
       "      <td>224.000000</td>\n",
       "    </tr>\n",
       "    <tr>\n",
       "      <th>max</th>\n",
       "      <td>300.000000</td>\n",
       "    </tr>\n",
       "  </tbody>\n",
       "</table>\n",
       "</div>"
      ],
      "text/plain": [
       "         Driver id\n",
       "count  4095.000000\n",
       "mean    149.501343\n",
       "std      86.051994\n",
       "min       1.000000\n",
       "25%      75.000000\n",
       "50%     149.000000\n",
       "75%     224.000000\n",
       "max     300.000000"
      ]
     },
     "execution_count": 20,
     "metadata": {},
     "output_type": "execute_result"
    }
   ],
   "source": [
    "#univariate analysis\n",
    "data.describe()"
   ]
  },
  {
   "cell_type": "code",
   "execution_count": 21,
   "id": "e4c48f1b",
   "metadata": {},
   "outputs": [],
   "source": [
    "# its shwons that we have equal number of rides or requests for all 300 drivers\n"
   ]
  },
  {
   "cell_type": "code",
   "execution_count": 22,
   "id": "447f7b41",
   "metadata": {},
   "outputs": [
    {
     "name": "stderr",
     "output_type": "stream",
     "text": [
      "C:\\Users\\Admin\\anaconda3\\lib\\site-packages\\seaborn\\distributions.py:2619: FutureWarning: `distplot` is a deprecated function and will be removed in a future version. Please adapt your code to use either `displot` (a figure-level function with similar flexibility) or `histplot` (an axes-level function for histograms).\n",
      "  warnings.warn(msg, FutureWarning)\n"
     ]
    },
    {
     "data": {
      "text/plain": [
       "<AxesSubplot:xlabel='Driver id', ylabel='Density'>"
      ]
     },
     "execution_count": 22,
     "metadata": {},
     "output_type": "execute_result"
    },
    {
     "data": {
      "image/png": "[encoded data removed]",
      "text/plain": [
       "<Figure size 432x288 with 1 Axes>"
      ]
     },
     "metadata": {
      "needs_background": "light"
     },
     "output_type": "display_data"
    }
   ],
   "source": [
    "sns.distplot(data[data['Status']!='Trip Completed']['Driver id'])\n"
   ]
  },
  {
   "cell_type": "code",
   "execution_count": 23,
   "id": "fceb8a4b",
   "metadata": {},
   "outputs": [],
   "source": [
    "# this histogram shows that at least not a single driver is cancelling or turning of theri devices intentionally\n"
   ]
  },
  {
   "cell_type": "code",
   "execution_count": 24,
   "id": "b278cbe6",
   "metadata": {},
   "outputs": [
    {
     "data": {
      "text/plain": [
       "Trip Completed       41.971831\n",
       "No Cars Available    39.288362\n",
       "Cancelled            18.739807\n",
       "Name: Status, dtype: float64"
      ]
     },
     "execution_count": 24,
     "metadata": {},
     "output_type": "execute_result"
    }
   ],
   "source": [
    "data.Status.value_counts()*100/data.Status.count()\n"
   ]
  },
  {
   "cell_type": "code",
   "execution_count": 25,
   "id": "f7733825",
   "metadata": {},
   "outputs": [],
   "source": [
    "# 40 percent trips are completed but more than 50 % rides are not completed also becasue ofno cars availabe or cancelled "
   ]
  },
  {
   "cell_type": "code",
   "execution_count": 26,
   "id": "b294fd60",
   "metadata": {},
   "outputs": [],
   "source": [
    "# lets add some more columns \n",
    "data['r_date'] = data['Request timestamp'].dt.date\n",
    "data['r_time'] = data['Request timestamp'].dt.time\n",
    "data['d_date'] = data['Drop timestamp'].dt.date\n",
    "data['d_time'] = data['Drop timestamp'].dt.time\n",
    "data['r_hour'] = data['Request timestamp'].dt.hour.astype(int)\n",
    "day_of_week = {0:'Mon',1:'Tue',2:'Wed',3:'Thr',4:'Fri',5:'Sat',6:'Sun'}"
   ]
  },
  {
   "cell_type": "code",
   "execution_count": 27,
   "id": "cb96262a",
   "metadata": {},
   "outputs": [],
   "source": [
    "# define bins and labels\n",
    "bins = ['00:00:00', '03:00:00', '11:00:00','15:00:00', '17:00:00', '23:59:59']\n",
    "labels = ['Late Night', 'Early Morning', 'Mid-Day','Evening', 'Late Evening']"
   ]
  },
  {
   "cell_type": "code",
   "execution_count": 28,
   "id": "6d09f980",
   "metadata": {},
   "outputs": [],
   "source": [
    "data['dayofweek'] = data['Request timestamp'].dt.dayofweek.map(day_of_week)\n",
    "data['timeofday'] = pd.cut(pd.to_timedelta(data['Request timestamp'].dt.time.astype(str)), bins=pd.to_timedelta(bins), labels=labels, ordered=False)"
   ]
  },
  {
   "cell_type": "code",
   "execution_count": 30,
   "id": "6724051f",
   "metadata": {},
   "outputs": [],
   "source": [
    "#drop the columns which are not required for analysis\n",
    "data.drop(['Request timestamp','Drop timestamp','d_time','r_time'],axis=1,inplace=True)"
   ]
  },
  {
   "cell_type": "code",
   "execution_count": 31,
   "id": "d88f51a6",
   "metadata": {},
   "outputs": [
    {
     "data": {
      "text/html": [
       "<div>\n",
       "<style scoped>\n",
       "    .dataframe tbody tr th:only-of-type {\n",
       "        vertical-align: middle;\n",
       "    }\n",
       "\n",
       "    .dataframe tbody tr th {\n",
       "        vertical-align: top;\n",
       "    }\n",
       "\n",
       "    .dataframe thead th {\n",
       "        text-align: right;\n",
       "    }\n",
       "</style>\n",
       "<table border=\"1\" class=\"dataframe\">\n",
       "  <thead>\n",
       "    <tr style=\"text-align: right;\">\n",
       "      <th></th>\n",
       "      <th>Pickup point</th>\n",
       "      <th>Driver id</th>\n",
       "      <th>Status</th>\n",
       "      <th>r_date</th>\n",
       "      <th>d_date</th>\n",
       "      <th>r_hour</th>\n",
       "      <th>dayofweek</th>\n",
       "      <th>timeofday</th>\n",
       "    </tr>\n",
       "  </thead>\n",
       "  <tbody>\n",
       "    <tr>\n",
       "      <th>0</th>\n",
       "      <td>Airport</td>\n",
       "      <td>1.0</td>\n",
       "      <td>Trip Completed</td>\n",
       "      <td>2016-11-07</td>\n",
       "      <td>2016-11-07</td>\n",
       "      <td>11</td>\n",
       "      <td>Mon</td>\n",
       "      <td>Mid-Day</td>\n",
       "    </tr>\n",
       "    <tr>\n",
       "      <th>1</th>\n",
       "      <td>Airport</td>\n",
       "      <td>1.0</td>\n",
       "      <td>Trip Completed</td>\n",
       "      <td>2016-11-07</td>\n",
       "      <td>2016-11-07</td>\n",
       "      <td>17</td>\n",
       "      <td>Mon</td>\n",
       "      <td>Late Evening</td>\n",
       "    </tr>\n",
       "    <tr>\n",
       "      <th>2</th>\n",
       "      <td>City</td>\n",
       "      <td>1.0</td>\n",
       "      <td>Trip Completed</td>\n",
       "      <td>2016-12-07</td>\n",
       "      <td>2016-12-07</td>\n",
       "      <td>9</td>\n",
       "      <td>Wed</td>\n",
       "      <td>Early Morning</td>\n",
       "    </tr>\n",
       "    <tr>\n",
       "      <th>3</th>\n",
       "      <td>Airport</td>\n",
       "      <td>1.0</td>\n",
       "      <td>Trip Completed</td>\n",
       "      <td>2016-12-07</td>\n",
       "      <td>2016-12-07</td>\n",
       "      <td>21</td>\n",
       "      <td>Wed</td>\n",
       "      <td>Late Evening</td>\n",
       "    </tr>\n",
       "    <tr>\n",
       "      <th>4</th>\n",
       "      <td>City</td>\n",
       "      <td>1.0</td>\n",
       "      <td>Trip Completed</td>\n",
       "      <td>2016-07-13</td>\n",
       "      <td>2016-07-13</td>\n",
       "      <td>8</td>\n",
       "      <td>Wed</td>\n",
       "      <td>Early Morning</td>\n",
       "    </tr>\n",
       "  </tbody>\n",
       "</table>\n",
       "</div>"
      ],
      "text/plain": [
       "  Pickup point  Driver id          Status      r_date      d_date  r_hour  \\\n",
       "0      Airport        1.0  Trip Completed  2016-11-07  2016-11-07      11   \n",
       "1      Airport        1.0  Trip Completed  2016-11-07  2016-11-07      17   \n",
       "2         City        1.0  Trip Completed  2016-12-07  2016-12-07       9   \n",
       "3      Airport        1.0  Trip Completed  2016-12-07  2016-12-07      21   \n",
       "4         City        1.0  Trip Completed  2016-07-13  2016-07-13       8   \n",
       "\n",
       "  dayofweek      timeofday  \n",
       "0       Mon        Mid-Day  \n",
       "1       Mon   Late Evening  \n",
       "2       Wed  Early Morning  \n",
       "3       Wed   Late Evening  \n",
       "4       Wed  Early Morning  "
      ]
     },
     "execution_count": 31,
     "metadata": {},
     "output_type": "execute_result"
    }
   ],
   "source": [
    "data.head()"
   ]
  },
  {
   "cell_type": "code",
   "execution_count": 32,
   "id": "c2c71093",
   "metadata": {},
   "outputs": [
    {
     "data": {
      "text/plain": [
       "3914"
      ]
     },
     "execution_count": 32,
     "metadata": {},
     "output_type": "execute_result"
    }
   ],
   "source": [
    "# now lets analysis more about where trips are not completed\n",
    "data_new = data[data['Status']!='Trip Completed']\n",
    "len(data_new)"
   ]
  },
  {
   "cell_type": "code",
   "execution_count": 36,
   "id": "6d509738",
   "metadata": {},
   "outputs": [
    {
     "data": {
      "image/png": "[encoded data removed]",
      "text/plain": [
       "<Figure size 432x288 with 1 Axes>"
      ]
     },
     "metadata": {
      "needs_background": "light"
     },
     "output_type": "display_data"
    }
   ],
   "source": [
    "#by pickup points\n",
    "data_temp = data_new.groupby(['Status','Pickup point']).agg({'r_date':'count'}).reset_index(level=1)\n",
    "pd.pivot_table(data_temp, values ='Pickup point',index=['Pickup point'],columns =['Status']).plot(kind='bar',stacked=True)\n",
    "plt.show()"
   ]
  },
  {
   "cell_type": "code",
   "execution_count": 37,
   "id": "d26e622b",
   "metadata": {},
   "outputs": [
    {
     "data": {
      "text/html": [
       "<div>\n",
       "<style scoped>\n",
       "    .dataframe tbody tr th:only-of-type {\n",
       "        vertical-align: middle;\n",
       "    }\n",
       "\n",
       "    .dataframe tbody tr th {\n",
       "        vertical-align: top;\n",
       "    }\n",
       "\n",
       "    .dataframe thead th {\n",
       "        text-align: right;\n",
       "    }\n",
       "</style>\n",
       "<table border=\"1\" class=\"dataframe\">\n",
       "  <thead>\n",
       "    <tr style=\"text-align: right;\">\n",
       "      <th></th>\n",
       "      <th>Pickup point</th>\n",
       "      <th>r_date</th>\n",
       "    </tr>\n",
       "    <tr>\n",
       "      <th>Status</th>\n",
       "      <th></th>\n",
       "      <th></th>\n",
       "    </tr>\n",
       "  </thead>\n",
       "  <tbody>\n",
       "    <tr>\n",
       "      <th>Cancelled</th>\n",
       "      <td>Airport</td>\n",
       "      <td>198</td>\n",
       "    </tr>\n",
       "    <tr>\n",
       "      <th>Cancelled</th>\n",
       "      <td>City</td>\n",
       "      <td>1066</td>\n",
       "    </tr>\n",
       "    <tr>\n",
       "      <th>No Cars Available</th>\n",
       "      <td>Airport</td>\n",
       "      <td>1713</td>\n",
       "    </tr>\n",
       "    <tr>\n",
       "      <th>No Cars Available</th>\n",
       "      <td>City</td>\n",
       "      <td>937</td>\n",
       "    </tr>\n",
       "  </tbody>\n",
       "</table>\n",
       "</div>"
      ],
      "text/plain": [
       "                  Pickup point  r_date\n",
       "Status                                \n",
       "Cancelled              Airport     198\n",
       "Cancelled                 City    1066\n",
       "No Cars Available      Airport    1713\n",
       "No Cars Available         City     937"
      ]
     },
     "metadata": {},
     "output_type": "display_data"
    }
   ],
   "source": [
    "display(data_temp)"
   ]
  },
  {
   "cell_type": "code",
   "execution_count": 38,
   "id": "4623e4b5",
   "metadata": {},
   "outputs": [
    {
     "data": {
      "image/png": "[encoded data removed]",
      "text/plain": [
       "<Figure size 432x288 with 1 Axes>"
      ]
     },
     "metadata": {
      "needs_background": "light"
     },
     "output_type": "display_data"
    }
   ],
   "source": [
    "#by dayofweek\n",
    "data_temp = data_new.groupby(['Status','dayofweek']).agg({'r_date':'count'}).reset_index(level=1)\n",
    "pd.pivot_table(data_temp, values ='dayofweek',index=['dayofweek'],columns =['Status']).plot(kind='bar',stacked=True)\n",
    "plt.show()"
   ]
  },
  {
   "cell_type": "code",
   "execution_count": 39,
   "id": "553dabad",
   "metadata": {},
   "outputs": [],
   "source": [
    "# so the major problem of all these things are on \"Wednesday\""
   ]
  },
  {
   "cell_type": "code",
   "execution_count": 41,
   "id": "429020c7",
   "metadata": {},
   "outputs": [
    {
     "data": {
      "image/png": "[encoded data removed]",
      "text/plain": [
       "<Figure size 432x288 with 1 Axes>"
      ]
     },
     "metadata": {
      "needs_background": "light"
     },
     "output_type": "display_data"
    }
   ],
   "source": [
    "#by timeofday\n",
    "#Lets analysis ride requests on wednesday for Trips which are not successfully completed and see if we can get some insights\n",
    "\n",
    "data_temp = data_new.groupby(['Status','timeofday']).agg({'r_date':'count'}).reset_index(level=1)\n",
    "pd.pivot_table(data_temp, values ='timeofday',index=['timeofday'],columns =['Status']).plot(kind='bar',stacked=True)\n",
    "plt.show()"
   ]
  },
  {
   "cell_type": "code",
   "execution_count": 42,
   "id": "50fc6417",
   "metadata": {},
   "outputs": [
    {
     "data": {
      "image/png": "[encoded data removed]",
      "text/plain": [
       "<Figure size 1080x504 with 1 Axes>"
      ]
     },
     "metadata": {
      "needs_background": "light"
     },
     "output_type": "display_data"
    }
   ],
   "source": [
    "plt.figure(figsize=(15,7)) \n",
    "plt.xticks(np.arange(0, 23, 1.0))\n",
    "keys = list(range(0,24))\n",
    "data_new[data_new['dayofweek']=='Wed']['r_hour'].value_counts().sort_index().plot()\n",
    "plt.show()"
   ]
  },
  {
   "cell_type": "code",
   "execution_count": null,
   "id": "51abd355",
   "metadata": {},
   "outputs": [],
   "source": [
    "# It is evident from the above graph that on wednesday, there is a peak of 'Cabs not available' and 'Cancelled' rides \n",
    "#between 3 AM - 11 AM and 4 PM - 12 AM"
   ]
  }
 ],
 "metadata": {
  "kernelspec": {
   "display_name": "Python 3 (ipykernel)",
   "language": "python",
   "name": "python3"
  },
  "language_info": {
   "codemirror_mode": {
    "name": "ipython",
    "version": 3
   },
   "file_extension": ".py",
   "mimetype": "text/x-python",
   "name": "python",
   "nbconvert_exporter": "python",
   "pygments_lexer": "ipython3",
   "version": "3.9.12"
  }
 },
 "nbformat": 4,
 "nbformat_minor": 5
}
